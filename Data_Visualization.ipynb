{
  "nbformat": 4,
  "nbformat_minor": 0,
  "metadata": {
    "colab": {
      "name": "L1:Data Visualization",
      "provenance": [],
      "collapsed_sections": [
        "Z_3DlkeuT89B",
        "3jNw_NLDe6bK"
      ],
      "toc_visible": true
    },
    "kernelspec": {
      "name": "python3",
      "display_name": "Python 3"
    }
  },
  "cells": [
    {
      "cell_type": "code",
      "metadata": {
        "id": "MkJHO6fAiD1I"
      },
      "source": [
        "import pandas as pd \n",
        "data=pd.read_csv(\"titanic-passengers.csv\",sep=\";\")\n"
      ],
      "execution_count": null,
      "outputs": []
    },
    {
      "cell_type": "code",
      "metadata": {
        "id": "i2cNNREH6Bte"
      },
      "source": [
        "from google.colab import drive\n",
        "drive.mount('/content/drive')"
      ],
      "execution_count": null,
      "outputs": []
    },
    {
      "cell_type": "markdown",
      "metadata": {
        "id": "a7gHpBvKqJm0"
      },
      "source": [
        "# Data Preprocessing \n",
        "Cleaning Data : missing Values "
      ]
    },
    {
      "cell_type": "code",
      "metadata": {
        "id": "YbB_A728iT0K",
        "outputId": "be9cea94-126b-49c1-c566-f1258d3b6de8",
        "colab": {
          "base_uri": "https://localhost:8080/",
          "height": 195
        }
      },
      "source": [
        "data.head()"
      ],
      "execution_count": null,
      "outputs": [
        {
          "output_type": "execute_result",
          "data": {
            "text/html": [
              "<div>\n",
              "<style scoped>\n",
              "    .dataframe tbody tr th:only-of-type {\n",
              "        vertical-align: middle;\n",
              "    }\n",
              "\n",
              "    .dataframe tbody tr th {\n",
              "        vertical-align: top;\n",
              "    }\n",
              "\n",
              "    .dataframe thead th {\n",
              "        text-align: right;\n",
              "    }\n",
              "</style>\n",
              "<table border=\"1\" class=\"dataframe\">\n",
              "  <thead>\n",
              "    <tr style=\"text-align: right;\">\n",
              "      <th></th>\n",
              "      <th>PassengerId</th>\n",
              "      <th>Survived</th>\n",
              "      <th>Pclass</th>\n",
              "      <th>Name</th>\n",
              "      <th>Sex</th>\n",
              "      <th>Age</th>\n",
              "      <th>SibSp</th>\n",
              "      <th>Parch</th>\n",
              "      <th>Ticket</th>\n",
              "      <th>Fare</th>\n",
              "      <th>Cabin</th>\n",
              "      <th>Embarked</th>\n",
              "    </tr>\n",
              "  </thead>\n",
              "  <tbody>\n",
              "    <tr>\n",
              "      <th>0</th>\n",
              "      <td>343</td>\n",
              "      <td>No</td>\n",
              "      <td>2</td>\n",
              "      <td>Collander, Mr. Erik Gustaf</td>\n",
              "      <td>male</td>\n",
              "      <td>28.0</td>\n",
              "      <td>0</td>\n",
              "      <td>0</td>\n",
              "      <td>248740</td>\n",
              "      <td>13.0000</td>\n",
              "      <td>NaN</td>\n",
              "      <td>S</td>\n",
              "    </tr>\n",
              "    <tr>\n",
              "      <th>1</th>\n",
              "      <td>76</td>\n",
              "      <td>No</td>\n",
              "      <td>3</td>\n",
              "      <td>Moen, Mr. Sigurd Hansen</td>\n",
              "      <td>male</td>\n",
              "      <td>25.0</td>\n",
              "      <td>0</td>\n",
              "      <td>0</td>\n",
              "      <td>348123</td>\n",
              "      <td>7.6500</td>\n",
              "      <td>F G73</td>\n",
              "      <td>S</td>\n",
              "    </tr>\n",
              "    <tr>\n",
              "      <th>2</th>\n",
              "      <td>641</td>\n",
              "      <td>No</td>\n",
              "      <td>3</td>\n",
              "      <td>Jensen, Mr. Hans Peder</td>\n",
              "      <td>male</td>\n",
              "      <td>20.0</td>\n",
              "      <td>0</td>\n",
              "      <td>0</td>\n",
              "      <td>350050</td>\n",
              "      <td>7.8542</td>\n",
              "      <td>NaN</td>\n",
              "      <td>S</td>\n",
              "    </tr>\n",
              "    <tr>\n",
              "      <th>3</th>\n",
              "      <td>568</td>\n",
              "      <td>No</td>\n",
              "      <td>3</td>\n",
              "      <td>Palsson, Mrs. Nils (Alma Cornelia Berglund)</td>\n",
              "      <td>female</td>\n",
              "      <td>29.0</td>\n",
              "      <td>0</td>\n",
              "      <td>4</td>\n",
              "      <td>349909</td>\n",
              "      <td>21.0750</td>\n",
              "      <td>NaN</td>\n",
              "      <td>S</td>\n",
              "    </tr>\n",
              "    <tr>\n",
              "      <th>4</th>\n",
              "      <td>672</td>\n",
              "      <td>No</td>\n",
              "      <td>1</td>\n",
              "      <td>Davidson, Mr. Thornton</td>\n",
              "      <td>male</td>\n",
              "      <td>31.0</td>\n",
              "      <td>1</td>\n",
              "      <td>0</td>\n",
              "      <td>F.C. 12750</td>\n",
              "      <td>52.0000</td>\n",
              "      <td>B71</td>\n",
              "      <td>S</td>\n",
              "    </tr>\n",
              "  </tbody>\n",
              "</table>\n",
              "</div>"
            ],
            "text/plain": [
              "   PassengerId Survived  Pclass  ...     Fare  Cabin  Embarked\n",
              "0          343       No       2  ...  13.0000    NaN         S\n",
              "1           76       No       3  ...   7.6500  F G73         S\n",
              "2          641       No       3  ...   7.8542    NaN         S\n",
              "3          568       No       3  ...  21.0750    NaN         S\n",
              "4          672       No       1  ...  52.0000    B71         S\n",
              "\n",
              "[5 rows x 12 columns]"
            ]
          },
          "metadata": {
            "tags": []
          },
          "execution_count": 24
        }
      ]
    },
    {
      "cell_type": "code",
      "metadata": {
        "id": "uYoywJ-hipVR",
        "outputId": "8d158d94-3fb9-4bca-c17d-c7d0f7e0375f",
        "colab": {
          "base_uri": "https://localhost:8080/",
          "height": 336
        }
      },
      "source": [
        "data.info()"
      ],
      "execution_count": null,
      "outputs": [
        {
          "output_type": "stream",
          "text": [
            "<class 'pandas.core.frame.DataFrame'>\n",
            "RangeIndex: 891 entries, 0 to 890\n",
            "Data columns (total 12 columns):\n",
            " #   Column       Non-Null Count  Dtype  \n",
            "---  ------       --------------  -----  \n",
            " 0   PassengerId  891 non-null    int64  \n",
            " 1   Survived     891 non-null    object \n",
            " 2   Pclass       891 non-null    int64  \n",
            " 3   Name         891 non-null    object \n",
            " 4   Sex          891 non-null    object \n",
            " 5   Age          714 non-null    float64\n",
            " 6   SibSp        891 non-null    int64  \n",
            " 7   Parch        891 non-null    int64  \n",
            " 8   Ticket       891 non-null    object \n",
            " 9   Fare         891 non-null    float64\n",
            " 10  Cabin        204 non-null    object \n",
            " 11  Embarked     889 non-null    object \n",
            "dtypes: float64(2), int64(4), object(6)\n",
            "memory usage: 83.7+ KB\n"
          ],
          "name": "stdout"
        }
      ]
    },
    {
      "cell_type": "code",
      "metadata": {
        "id": "rxjUazB_i8lk",
        "outputId": "12a71d20-1b68-4096-9ef8-3e05f3bcc5c8",
        "colab": {
          "base_uri": "https://localhost:8080/",
          "height": 284
        }
      },
      "source": [
        "data.describe()"
      ],
      "execution_count": null,
      "outputs": [
        {
          "output_type": "execute_result",
          "data": {
            "text/html": [
              "<div>\n",
              "<style scoped>\n",
              "    .dataframe tbody tr th:only-of-type {\n",
              "        vertical-align: middle;\n",
              "    }\n",
              "\n",
              "    .dataframe tbody tr th {\n",
              "        vertical-align: top;\n",
              "    }\n",
              "\n",
              "    .dataframe thead th {\n",
              "        text-align: right;\n",
              "    }\n",
              "</style>\n",
              "<table border=\"1\" class=\"dataframe\">\n",
              "  <thead>\n",
              "    <tr style=\"text-align: right;\">\n",
              "      <th></th>\n",
              "      <th>PassengerId</th>\n",
              "      <th>Pclass</th>\n",
              "      <th>Age</th>\n",
              "      <th>SibSp</th>\n",
              "      <th>Parch</th>\n",
              "      <th>Fare</th>\n",
              "    </tr>\n",
              "  </thead>\n",
              "  <tbody>\n",
              "    <tr>\n",
              "      <th>count</th>\n",
              "      <td>891.000000</td>\n",
              "      <td>891.000000</td>\n",
              "      <td>714.000000</td>\n",
              "      <td>891.000000</td>\n",
              "      <td>891.000000</td>\n",
              "      <td>891.000000</td>\n",
              "    </tr>\n",
              "    <tr>\n",
              "      <th>mean</th>\n",
              "      <td>446.000000</td>\n",
              "      <td>2.308642</td>\n",
              "      <td>29.699118</td>\n",
              "      <td>0.523008</td>\n",
              "      <td>0.381594</td>\n",
              "      <td>32.204208</td>\n",
              "    </tr>\n",
              "    <tr>\n",
              "      <th>std</th>\n",
              "      <td>257.353842</td>\n",
              "      <td>0.836071</td>\n",
              "      <td>14.526497</td>\n",
              "      <td>1.102743</td>\n",
              "      <td>0.806057</td>\n",
              "      <td>49.693429</td>\n",
              "    </tr>\n",
              "    <tr>\n",
              "      <th>min</th>\n",
              "      <td>1.000000</td>\n",
              "      <td>1.000000</td>\n",
              "      <td>0.420000</td>\n",
              "      <td>0.000000</td>\n",
              "      <td>0.000000</td>\n",
              "      <td>0.000000</td>\n",
              "    </tr>\n",
              "    <tr>\n",
              "      <th>25%</th>\n",
              "      <td>223.500000</td>\n",
              "      <td>2.000000</td>\n",
              "      <td>20.125000</td>\n",
              "      <td>0.000000</td>\n",
              "      <td>0.000000</td>\n",
              "      <td>7.910400</td>\n",
              "    </tr>\n",
              "    <tr>\n",
              "      <th>50%</th>\n",
              "      <td>446.000000</td>\n",
              "      <td>3.000000</td>\n",
              "      <td>28.000000</td>\n",
              "      <td>0.000000</td>\n",
              "      <td>0.000000</td>\n",
              "      <td>14.454200</td>\n",
              "    </tr>\n",
              "    <tr>\n",
              "      <th>75%</th>\n",
              "      <td>668.500000</td>\n",
              "      <td>3.000000</td>\n",
              "      <td>38.000000</td>\n",
              "      <td>1.000000</td>\n",
              "      <td>0.000000</td>\n",
              "      <td>31.000000</td>\n",
              "    </tr>\n",
              "    <tr>\n",
              "      <th>max</th>\n",
              "      <td>891.000000</td>\n",
              "      <td>3.000000</td>\n",
              "      <td>80.000000</td>\n",
              "      <td>8.000000</td>\n",
              "      <td>6.000000</td>\n",
              "      <td>512.329200</td>\n",
              "    </tr>\n",
              "  </tbody>\n",
              "</table>\n",
              "</div>"
            ],
            "text/plain": [
              "       PassengerId      Pclass         Age       SibSp       Parch        Fare\n",
              "count   891.000000  891.000000  714.000000  891.000000  891.000000  891.000000\n",
              "mean    446.000000    2.308642   29.699118    0.523008    0.381594   32.204208\n",
              "std     257.353842    0.836071   14.526497    1.102743    0.806057   49.693429\n",
              "min       1.000000    1.000000    0.420000    0.000000    0.000000    0.000000\n",
              "25%     223.500000    2.000000   20.125000    0.000000    0.000000    7.910400\n",
              "50%     446.000000    3.000000   28.000000    0.000000    0.000000   14.454200\n",
              "75%     668.500000    3.000000   38.000000    1.000000    0.000000   31.000000\n",
              "max     891.000000    3.000000   80.000000    8.000000    6.000000  512.329200"
            ]
          },
          "metadata": {
            "tags": []
          },
          "execution_count": 26
        }
      ]
    },
    {
      "cell_type": "code",
      "metadata": {
        "id": "bjrhVbrhiyjk",
        "outputId": "7a269c90-0cb1-439f-80a1-9ff71886edd3",
        "colab": {
          "base_uri": "https://localhost:8080/",
          "height": 235
        }
      },
      "source": [
        "data.isnull().sum()"
      ],
      "execution_count": null,
      "outputs": [
        {
          "output_type": "execute_result",
          "data": {
            "text/plain": [
              "PassengerId      0\n",
              "Survived         0\n",
              "Pclass           0\n",
              "Name             0\n",
              "Sex              0\n",
              "Age            177\n",
              "SibSp            0\n",
              "Parch            0\n",
              "Ticket           0\n",
              "Fare             0\n",
              "Cabin          687\n",
              "Embarked         2\n",
              "dtype: int64"
            ]
          },
          "metadata": {
            "tags": []
          },
          "execution_count": 27
        }
      ]
    },
    {
      "cell_type": "code",
      "metadata": {
        "id": "xgWjz8hyVrBl",
        "outputId": "523c5509-785b-401f-8cb9-37fd3883796d",
        "colab": {
          "base_uri": "https://localhost:8080/",
          "height": 218
        }
      },
      "source": [
        "data['Age'].value_counts()"
      ],
      "execution_count": null,
      "outputs": [
        {
          "output_type": "execute_result",
          "data": {
            "text/plain": [
              "24.00    30\n",
              "22.00    27\n",
              "18.00    26\n",
              "28.00    25\n",
              "19.00    25\n",
              "         ..\n",
              "80.00     1\n",
              "36.50     1\n",
              "55.50     1\n",
              "14.50     1\n",
              "0.42      1\n",
              "Name: Age, Length: 88, dtype: int64"
            ]
          },
          "metadata": {
            "tags": []
          },
          "execution_count": 28
        }
      ]
    },
    {
      "cell_type": "code",
      "metadata": {
        "id": "M9F0hu1LVxmq"
      },
      "source": [
        "data ['Age'].fillna(data [\"Age\"].mean(),inplace=True)\n"
      ],
      "execution_count": null,
      "outputs": []
    },
    {
      "cell_type": "code",
      "metadata": {
        "id": "nrOkxyI_Xasi",
        "outputId": "036697ed-c638-4f42-8df6-90485a6dca2b",
        "colab": {
          "base_uri": "https://localhost:8080/",
          "height": 218
        }
      },
      "source": [
        "data [\"Cabin\"].value_counts()"
      ],
      "execution_count": null,
      "outputs": [
        {
          "output_type": "execute_result",
          "data": {
            "text/plain": [
              "G6             4\n",
              "B96 B98        4\n",
              "C23 C25 C27    4\n",
              "F2             3\n",
              "E101           3\n",
              "              ..\n",
              "E77            1\n",
              "D28            1\n",
              "B101           1\n",
              "D19            1\n",
              "C104           1\n",
              "Name: Cabin, Length: 147, dtype: int64"
            ]
          },
          "metadata": {
            "tags": []
          },
          "execution_count": 30
        }
      ]
    },
    {
      "cell_type": "code",
      "metadata": {
        "id": "qwAUmVwwX4Nc"
      },
      "source": [
        "data[\"Cabin\"].fillna(\"G6\",inplace=True) #the most frequent"
      ],
      "execution_count": null,
      "outputs": []
    },
    {
      "cell_type": "code",
      "metadata": {
        "id": "SmwRbwwsYlTR"
      },
      "source": [
        "data.dropna(axis=0,how=\"any\",inplace=True)"
      ],
      "execution_count": null,
      "outputs": []
    },
    {
      "cell_type": "code",
      "metadata": {
        "id": "WuN8uO-7Y5MC",
        "outputId": "a02d4335-c7f1-4c04-dd5b-3e161d1c2968",
        "colab": {
          "base_uri": "https://localhost:8080/",
          "height": 235
        }
      },
      "source": [
        "data.isnull().sum()"
      ],
      "execution_count": null,
      "outputs": [
        {
          "output_type": "execute_result",
          "data": {
            "text/plain": [
              "PassengerId    0\n",
              "Survived       0\n",
              "Pclass         0\n",
              "Name           0\n",
              "Sex            0\n",
              "Age            0\n",
              "SibSp          0\n",
              "Parch          0\n",
              "Ticket         0\n",
              "Fare           0\n",
              "Cabin          0\n",
              "Embarked       0\n",
              "dtype: int64"
            ]
          },
          "metadata": {
            "tags": []
          },
          "execution_count": 33
        }
      ]
    },
    {
      "cell_type": "markdown",
      "metadata": {
        "id": "VvMvMbLcaTpg"
      },
      "source": [
        "Cleaning Data : **Survived / Sex / Embarked** \n"
      ]
    },
    {
      "cell_type": "code",
      "metadata": {
        "id": "mg7GT2tbcgQz",
        "outputId": "38ca58e1-8cd0-4d2b-e611-0769715cc6e9",
        "colab": {
          "base_uri": "https://localhost:8080/",
          "height": 336
        }
      },
      "source": [
        "data.info()"
      ],
      "execution_count": null,
      "outputs": [
        {
          "output_type": "stream",
          "text": [
            "<class 'pandas.core.frame.DataFrame'>\n",
            "Int64Index: 889 entries, 0 to 890\n",
            "Data columns (total 12 columns):\n",
            " #   Column       Non-Null Count  Dtype  \n",
            "---  ------       --------------  -----  \n",
            " 0   PassengerId  889 non-null    int64  \n",
            " 1   Survived     889 non-null    object \n",
            " 2   Pclass       889 non-null    int64  \n",
            " 3   Name         889 non-null    object \n",
            " 4   Sex          889 non-null    object \n",
            " 5   Age          889 non-null    float64\n",
            " 6   SibSp        889 non-null    int64  \n",
            " 7   Parch        889 non-null    int64  \n",
            " 8   Ticket       889 non-null    object \n",
            " 9   Fare         889 non-null    float64\n",
            " 10  Cabin        889 non-null    object \n",
            " 11  Embarked     889 non-null    object \n",
            "dtypes: float64(2), int64(4), object(6)\n",
            "memory usage: 90.3+ KB\n"
          ],
          "name": "stdout"
        }
      ]
    },
    {
      "cell_type": "code",
      "metadata": {
        "id": "hO7U9RyEfGDN",
        "outputId": "45e1ab10-2089-4c7f-f1f3-2eed27de544e",
        "colab": {
          "base_uri": "https://localhost:8080/",
          "height": 67
        }
      },
      "source": [
        "data[\"Survived\"].value_counts() # to check if there is other values than yes or no "
      ],
      "execution_count": null,
      "outputs": [
        {
          "output_type": "execute_result",
          "data": {
            "text/plain": [
              "No     549\n",
              "Yes    340\n",
              "Name: Survived, dtype: int64"
            ]
          },
          "metadata": {
            "tags": []
          },
          "execution_count": 35
        }
      ]
    },
    {
      "cell_type": "code",
      "metadata": {
        "id": "s3q1T3ohfTe9",
        "outputId": "e565f004-749e-46e9-c125-92b9297e3433",
        "colab": {
          "base_uri": "https://localhost:8080/",
          "height": 67
        }
      },
      "source": [
        "data[\"Sex\"].value_counts() # to check if there is other values than male or female"
      ],
      "execution_count": null,
      "outputs": [
        {
          "output_type": "execute_result",
          "data": {
            "text/plain": [
              "male      577\n",
              "female    312\n",
              "Name: Sex, dtype: int64"
            ]
          },
          "metadata": {
            "tags": []
          },
          "execution_count": 36
        }
      ]
    },
    {
      "cell_type": "code",
      "metadata": {
        "id": "g4NZh1BifnvV",
        "outputId": "d77f1cbd-1379-413e-ec6f-124b1bd89b05",
        "colab": {
          "base_uri": "https://localhost:8080/",
          "height": 84
        }
      },
      "source": [
        "data[\"Embarked\"].value_counts() # to check the values"
      ],
      "execution_count": null,
      "outputs": [
        {
          "output_type": "execute_result",
          "data": {
            "text/plain": [
              "S    644\n",
              "C    168\n",
              "Q     77\n",
              "Name: Embarked, dtype: int64"
            ]
          },
          "metadata": {
            "tags": []
          },
          "execution_count": 37
        }
      ]
    },
    {
      "cell_type": "markdown",
      "metadata": {
        "id": "Z_3DlkeuT89B"
      },
      "source": [
        "# Data Visualisation  "
      ]
    },
    {
      "cell_type": "code",
      "metadata": {
        "id": "MMVCQmh8XqJi",
        "outputId": "163b1899-355e-4a90-a60a-539c94c32332",
        "colab": {
          "base_uri": "https://localhost:8080/"
        }
      },
      "source": [
        "data.info() "
      ],
      "execution_count": null,
      "outputs": [
        {
          "output_type": "stream",
          "text": [
            "<class 'pandas.core.frame.DataFrame'>\n",
            "Int64Index: 889 entries, 0 to 890\n",
            "Data columns (total 12 columns):\n",
            " #   Column       Non-Null Count  Dtype  \n",
            "---  ------       --------------  -----  \n",
            " 0   PassengerId  889 non-null    int64  \n",
            " 1   Survived     889 non-null    object \n",
            " 2   Pclass       889 non-null    int64  \n",
            " 3   Name         889 non-null    object \n",
            " 4   Sex          889 non-null    object \n",
            " 5   Age          889 non-null    float64\n",
            " 6   SibSp        889 non-null    int64  \n",
            " 7   Parch        889 non-null    int64  \n",
            " 8   Ticket       889 non-null    object \n",
            " 9   Fare         889 non-null    float64\n",
            " 10  Cabin        889 non-null    object \n",
            " 11  Embarked     889 non-null    object \n",
            "dtypes: float64(2), int64(4), object(6)\n",
            "memory usage: 90.3+ KB\n"
          ],
          "name": "stdout"
        }
      ]
    },
    {
      "cell_type": "code",
      "metadata": {
        "id": "I_5ITnGGood8",
        "outputId": "4b3027b0-254a-4918-c3c8-3f385c2a313e",
        "colab": {
          "base_uri": "https://localhost:8080/"
        }
      },
      "source": [
        "import seaborn as sns \n",
        "sns.countplot(data[\"Survived\"])\n"
      ],
      "execution_count": null,
      "outputs": [
        {
          "output_type": "stream",
          "text": [
            "/usr/local/lib/python3.6/dist-packages/seaborn/_decorators.py:43: FutureWarning: Pass the following variable as a keyword arg: x. From version 0.12, the only valid positional argument will be `data`, and passing other arguments without an explicit keyword will result in an error or misinterpretation.\n",
            "  FutureWarning\n"
          ],
          "name": "stderr"
        },
        {
          "output_type": "execute_result",
          "data": {
            "text/plain": [
              "<matplotlib.axes._subplots.AxesSubplot at 0x7f3f0b7af198>"
            ]
          },
          "metadata": {
            "tags": []
          },
          "execution_count": 39
        },
        {
          "output_type": "display_data",
          "data": {
            "image/png": "[encoded data removed]",
            "text/plain": [
              "<Figure size 432x288 with 1 Axes>"
            ]
          },
          "metadata": {
            "tags": [],
            "needs_background": "light"
          }
        }
      ]
    },
    {
      "cell_type": "code",
      "metadata": {
        "id": "bd5q5nSjotrq",
        "outputId": "db9ff90c-dea1-4e89-9249-5bfe149382bc",
        "colab": {
          "base_uri": "https://localhost:8080/"
        }
      },
      "source": [
        "import seaborn as sns\n",
        "sns.distplot(data[\"Age\"]) #the majority pf the passengers are between 20 and 40 "
      ],
      "execution_count": null,
      "outputs": [
        {
          "output_type": "stream",
          "text": [
            "/usr/local/lib/python3.6/dist-packages/seaborn/distributions.py:2551: FutureWarning: `distplot` is a deprecated function and will be removed in a future version. Please adapt your code to use either `displot` (a figure-level function with similar flexibility) or `histplot` (an axes-level function for histograms).\n",
            "  warnings.warn(msg, FutureWarning)\n"
          ],
          "name": "stderr"
        },
        {
          "output_type": "execute_result",
          "data": {
            "text/plain": [
              "<matplotlib.axes._subplots.AxesSubplot at 0x7f3f0b73cb70>"
            ]
          },
          "metadata": {
            "tags": []
          },
          "execution_count": 40
        },
        {
          "output_type": "display_data",
          "data": {
            "image/png": "[encoded data removed]",
            "text/plain": [
              "<Figure size 432x288 with 1 Axes>"
            ]
          },
          "metadata": {
            "tags": [],
            "needs_background": "light"
          }
        }
      ]
    },
    {
      "cell_type": "code",
      "metadata": {
        "id": "5eluwcKSXsyx",
        "outputId": "4db0843a-b8df-4923-a547-de12bec628ee",
        "colab": {
          "base_uri": "https://localhost:8080/"
        }
      },
      "source": [
        "import seaborn as sns\n",
        "sns.set(rc={'figure.figsize':(25,12)})\n",
        "sns.barplot(y='Age', x=\"Survived\",hue=\"Sex\",data=data);\n",
        "#the majority of the survivors are females\n",
        "#the majority of non survivors  are male \n",
        "#younger male have more chance to sirvive than the older ones \n",
        "\n"
      ],
      "execution_count": null,
      "outputs": [
        {
          "output_type": "display_data",
          "data": {
            "image/png": "[encoded data removed]",
            "text/plain": [
              "<Figure size 1800x864 with 1 Axes>"
            ]
          },
          "metadata": {
            "tags": []
          }
        }
      ]
    },
    {
      "cell_type": "code",
      "metadata": {
        "id": "JuRYR96fzAB-",
        "outputId": "b06e7b4e-c3c2-4718-93cc-f9a5e6310f98",
        "colab": {
          "base_uri": "https://localhost:8080/"
        }
      },
      "source": [
        "sns.set(rc={'figure.figsize':(25,12)})\n",
        "sns.countplot( x=\"Embarked\",data=data);"
      ],
      "execution_count": null,
      "outputs": [
        {
          "output_type": "display_data",
          "data": {
            "image/png": "[encoded data removed]",
            "text/plain": [
              "<Figure size 1800x864 with 1 Axes>"
            ]
          },
          "metadata": {
            "tags": []
          }
        }
      ]
    },
    {
      "cell_type": "code",
      "metadata": {
        "id": "R3OOZTBzBZ7Z",
        "outputId": "3857a057-bfef-47db-fe95-e555982c1b66",
        "colab": {
          "base_uri": "https://localhost:8080/"
        }
      },
      "source": [
        "sns.set(rc={'figure.figsize':(25,12)})\n",
        "sns.countplot( x=\"Embarked\",hue=\"Survived\",data=data);\n",
        "#if elbarked is C you have high chance to survive than S and Q"
      ],
      "execution_count": null,
      "outputs": [
        {
          "output_type": "display_data",
          "data": {
            "image/png": "[encoded data removed]",
            "text/plain": [
              "<Figure size 1800x864 with 1 Axes>"
            ]
          },
          "metadata": {
            "tags": []
          }
        }
      ]
    },
    {
      "cell_type": "code",
      "metadata": {
        "id": "C8nvfvRnn82x",
        "outputId": "8dbdbf10-fd7e-42e6-ae6a-5aa5e87f1726",
        "colab": {
          "base_uri": "https://localhost:8080/"
        }
      },
      "source": [
        "sns.countplot(x=\"Pclass\",data=data); #the majority are on class 3 \n"
      ],
      "execution_count": null,
      "outputs": [
        {
          "output_type": "display_data",
          "data": {
            "image/png": "[encoded data removed]",
            "text/plain": [
              "<Figure size 1800x864 with 1 Axes>"
            ]
          },
          "metadata": {
            "tags": []
          }
        }
      ]
    },
    {
      "cell_type": "code",
      "metadata": {
        "id": "1LyveOQ0ZZnm",
        "outputId": "d85a10c8-7e93-42e9-806e-229e23b86d11",
        "colab": {
          "base_uri": "https://localhost:8080/"
        }
      },
      "source": [
        "import seaborn as sns\n",
        "import matplotlib.pyplot as plt\n",
        "g=sns.FacetGrid(data,col=\"Survived\")\n",
        "g.map(sns.countplot,\"Pclass\")\n",
        "g.add_legend()\n",
        "#if you are class 1 you are more likly to survive\n",
        "# if you are class 3 you have low chance to survive "
      ],
      "execution_count": null,
      "outputs": [
        {
          "output_type": "stream",
          "text": [
            "/usr/local/lib/python3.6/dist-packages/seaborn/axisgrid.py:645: UserWarning: Using the countplot function without specifying `order` is likely to produce an incorrect plot.\n",
            "  warnings.warn(warning)\n"
          ],
          "name": "stderr"
        },
        {
          "output_type": "execute_result",
          "data": {
            "text/plain": [
              "<seaborn.axisgrid.FacetGrid at 0x7f3f0b0b58d0>"
            ]
          },
          "metadata": {
            "tags": []
          },
          "execution_count": 45
        },
        {
          "output_type": "display_data",
          "data": {
            "image/png": "[encoded data removed]",
            "text/plain": [
              "<Figure size 440.8x216 with 2 Axes>"
            ]
          },
          "metadata": {
            "tags": []
          }
        }
      ]
    },
    {
      "cell_type": "markdown",
      "metadata": {
        "id": "3jNw_NLDe6bK"
      },
      "source": [
        "# Feature Transformation"
      ]
    },
    {
      "cell_type": "markdown",
      "metadata": {
        "id": "vLlbAhf-f2N4"
      },
      "source": [
        "Data Cleaning : **Age** (Question o2o)"
      ]
    },
    {
      "cell_type": "code",
      "metadata": {
        "id": "dobt-RbagGMf",
        "outputId": "3f932683-5b51-406f-9252-0f8f7d4e3908",
        "colab": {
          "base_uri": "https://localhost:8080/"
        }
      },
      "source": [
        "import numpy as np \n",
        "new_data=data \n",
        "tab=new_data[\"Age\"]\n",
        "\n",
        "new_data=new_data.astype({\"Age\":\"int64\"})\n",
        "new_data.info()\n"
      ],
      "execution_count": null,
      "outputs": [
        {
          "output_type": "stream",
          "text": [
            "<class 'pandas.core.frame.DataFrame'>\n",
            "Int64Index: 889 entries, 0 to 890\n",
            "Data columns (total 12 columns):\n",
            " #   Column       Non-Null Count  Dtype  \n",
            "---  ------       --------------  -----  \n",
            " 0   PassengerId  889 non-null    int64  \n",
            " 1   Survived     889 non-null    object \n",
            " 2   Pclass       889 non-null    int64  \n",
            " 3   Name         889 non-null    object \n",
            " 4   Sex          889 non-null    object \n",
            " 5   Age          889 non-null    int64  \n",
            " 6   SibSp        889 non-null    int64  \n",
            " 7   Parch        889 non-null    int64  \n",
            " 8   Ticket       889 non-null    object \n",
            " 9   Fare         889 non-null    float64\n",
            " 10  Cabin        889 non-null    object \n",
            " 11  Embarked     889 non-null    object \n",
            "dtypes: float64(1), int64(5), object(6)\n",
            "memory usage: 130.3+ KB\n"
          ],
          "name": "stdout"
        }
      ]
    },
    {
      "cell_type": "code",
      "metadata": {
        "id": "atFobkDxgMJU",
        "outputId": "beabf524-14c3-40bb-9d0c-5f8dd26e899b",
        "colab": {
          "base_uri": "https://localhost:8080/"
        }
      },
      "source": [
        "new_data"
      ],
      "execution_count": null,
      "outputs": [
        {
          "output_type": "execute_result",
          "data": {
            "text/html": [
              "<div>\n",
              "<style scoped>\n",
              "    .dataframe tbody tr th:only-of-type {\n",
              "        vertical-align: middle;\n",
              "    }\n",
              "\n",
              "    .dataframe tbody tr th {\n",
              "        vertical-align: top;\n",
              "    }\n",
              "\n",
              "    .dataframe thead th {\n",
              "        text-align: right;\n",
              "    }\n",
              "</style>\n",
              "<table border=\"1\" class=\"dataframe\">\n",
              "  <thead>\n",
              "    <tr style=\"text-align: right;\">\n",
              "      <th></th>\n",
              "      <th>PassengerId</th>\n",
              "      <th>Survived</th>\n",
              "      <th>Pclass</th>\n",
              "      <th>Name</th>\n",
              "      <th>Sex</th>\n",
              "      <th>Age</th>\n",
              "      <th>SibSp</th>\n",
              "      <th>Parch</th>\n",
              "      <th>Ticket</th>\n",
              "      <th>Fare</th>\n",
              "      <th>Cabin</th>\n",
              "      <th>Embarked</th>\n",
              "    </tr>\n",
              "  </thead>\n",
              "  <tbody>\n",
              "    <tr>\n",
              "      <th>0</th>\n",
              "      <td>343</td>\n",
              "      <td>No</td>\n",
              "      <td>2</td>\n",
              "      <td>Collander, Mr. Erik Gustaf</td>\n",
              "      <td>male</td>\n",
              "      <td>28</td>\n",
              "      <td>0</td>\n",
              "      <td>0</td>\n",
              "      <td>248740</td>\n",
              "      <td>13.0000</td>\n",
              "      <td>G6</td>\n",
              "      <td>S</td>\n",
              "    </tr>\n",
              "    <tr>\n",
              "      <th>1</th>\n",
              "      <td>76</td>\n",
              "      <td>No</td>\n",
              "      <td>3</td>\n",
              "      <td>Moen, Mr. Sigurd Hansen</td>\n",
              "      <td>male</td>\n",
              "      <td>25</td>\n",
              "      <td>0</td>\n",
              "      <td>0</td>\n",
              "      <td>348123</td>\n",
              "      <td>7.6500</td>\n",
              "      <td>F G73</td>\n",
              "      <td>S</td>\n",
              "    </tr>\n",
              "    <tr>\n",
              "      <th>2</th>\n",
              "      <td>641</td>\n",
              "      <td>No</td>\n",
              "      <td>3</td>\n",
              "      <td>Jensen, Mr. Hans Peder</td>\n",
              "      <td>male</td>\n",
              "      <td>20</td>\n",
              "      <td>0</td>\n",
              "      <td>0</td>\n",
              "      <td>350050</td>\n",
              "      <td>7.8542</td>\n",
              "      <td>G6</td>\n",
              "      <td>S</td>\n",
              "    </tr>\n",
              "    <tr>\n",
              "      <th>3</th>\n",
              "      <td>568</td>\n",
              "      <td>No</td>\n",
              "      <td>3</td>\n",
              "      <td>Palsson, Mrs. Nils (Alma Cornelia Berglund)</td>\n",
              "      <td>female</td>\n",
              "      <td>29</td>\n",
              "      <td>0</td>\n",
              "      <td>4</td>\n",
              "      <td>349909</td>\n",
              "      <td>21.0750</td>\n",
              "      <td>G6</td>\n",
              "      <td>S</td>\n",
              "    </tr>\n",
              "    <tr>\n",
              "      <th>4</th>\n",
              "      <td>672</td>\n",
              "      <td>No</td>\n",
              "      <td>1</td>\n",
              "      <td>Davidson, Mr. Thornton</td>\n",
              "      <td>male</td>\n",
              "      <td>31</td>\n",
              "      <td>1</td>\n",
              "      <td>0</td>\n",
              "      <td>F.C. 12750</td>\n",
              "      <td>52.0000</td>\n",
              "      <td>B71</td>\n",
              "      <td>S</td>\n",
              "    </tr>\n",
              "    <tr>\n",
              "      <th>...</th>\n",
              "      <td>...</td>\n",
              "      <td>...</td>\n",
              "      <td>...</td>\n",
              "      <td>...</td>\n",
              "      <td>...</td>\n",
              "      <td>...</td>\n",
              "      <td>...</td>\n",
              "      <td>...</td>\n",
              "      <td>...</td>\n",
              "      <td>...</td>\n",
              "      <td>...</td>\n",
              "      <td>...</td>\n",
              "    </tr>\n",
              "    <tr>\n",
              "      <th>886</th>\n",
              "      <td>10</td>\n",
              "      <td>Yes</td>\n",
              "      <td>2</td>\n",
              "      <td>Nasser, Mrs. Nicholas (Adele Achem)</td>\n",
              "      <td>female</td>\n",
              "      <td>14</td>\n",
              "      <td>1</td>\n",
              "      <td>0</td>\n",
              "      <td>237736</td>\n",
              "      <td>30.0708</td>\n",
              "      <td>G6</td>\n",
              "      <td>C</td>\n",
              "    </tr>\n",
              "    <tr>\n",
              "      <th>887</th>\n",
              "      <td>61</td>\n",
              "      <td>No</td>\n",
              "      <td>3</td>\n",
              "      <td>Sirayanian, Mr. Orsen</td>\n",
              "      <td>male</td>\n",
              "      <td>22</td>\n",
              "      <td>0</td>\n",
              "      <td>0</td>\n",
              "      <td>2669</td>\n",
              "      <td>7.2292</td>\n",
              "      <td>G6</td>\n",
              "      <td>C</td>\n",
              "    </tr>\n",
              "    <tr>\n",
              "      <th>888</th>\n",
              "      <td>535</td>\n",
              "      <td>No</td>\n",
              "      <td>3</td>\n",
              "      <td>Cacic, Miss. Marija</td>\n",
              "      <td>female</td>\n",
              "      <td>30</td>\n",
              "      <td>0</td>\n",
              "      <td>0</td>\n",
              "      <td>315084</td>\n",
              "      <td>8.6625</td>\n",
              "      <td>G6</td>\n",
              "      <td>S</td>\n",
              "    </tr>\n",
              "    <tr>\n",
              "      <th>889</th>\n",
              "      <td>102</td>\n",
              "      <td>No</td>\n",
              "      <td>3</td>\n",
              "      <td>Petroff, Mr. Pastcho (\"Pentcho\")</td>\n",
              "      <td>male</td>\n",
              "      <td>29</td>\n",
              "      <td>0</td>\n",
              "      <td>0</td>\n",
              "      <td>349215</td>\n",
              "      <td>7.8958</td>\n",
              "      <td>G6</td>\n",
              "      <td>S</td>\n",
              "    </tr>\n",
              "    <tr>\n",
              "      <th>890</th>\n",
              "      <td>428</td>\n",
              "      <td>Yes</td>\n",
              "      <td>2</td>\n",
              "      <td>Phillips, Miss. Kate Florence (\"Mrs Kate Louis...</td>\n",
              "      <td>female</td>\n",
              "      <td>19</td>\n",
              "      <td>0</td>\n",
              "      <td>0</td>\n",
              "      <td>250655</td>\n",
              "      <td>26.0000</td>\n",
              "      <td>G6</td>\n",
              "      <td>S</td>\n",
              "    </tr>\n",
              "  </tbody>\n",
              "</table>\n",
              "<p>889 rows × 12 columns</p>\n",
              "</div>"
            ],
            "text/plain": [
              "     PassengerId Survived  Pclass  ...     Fare  Cabin  Embarked\n",
              "0            343       No       2  ...  13.0000     G6         S\n",
              "1             76       No       3  ...   7.6500  F G73         S\n",
              "2            641       No       3  ...   7.8542     G6         S\n",
              "3            568       No       3  ...  21.0750     G6         S\n",
              "4            672       No       1  ...  52.0000    B71         S\n",
              "..           ...      ...     ...  ...      ...    ...       ...\n",
              "886           10      Yes       2  ...  30.0708     G6         C\n",
              "887           61       No       3  ...   7.2292     G6         C\n",
              "888          535       No       3  ...   8.6625     G6         S\n",
              "889          102       No       3  ...   7.8958     G6         S\n",
              "890          428      Yes       2  ...  26.0000     G6         S\n",
              "\n",
              "[889 rows x 12 columns]"
            ]
          },
          "metadata": {
            "tags": []
          },
          "execution_count": 47
        }
      ]
    },
    {
      "cell_type": "markdown",
      "metadata": {
        "id": "bhEg4vQcgZ6c"
      },
      "source": [
        "Feature Transformation"
      ]
    },
    {
      "cell_type": "code",
      "metadata": {
        "id": "NpF49DHtgQa7",
        "outputId": "59264bbc-9e07-489c-ae42-13cb95410955",
        "colab": {
          "base_uri": "https://localhost:8080/"
        }
      },
      "source": [
        "print (data) \n",
        "data.info()"
      ],
      "execution_count": null,
      "outputs": [
        {
          "output_type": "stream",
          "text": [
            "     PassengerId Survived  Pclass  ...     Fare  Cabin  Embarked\n",
            "0            343       No       2  ...  13.0000     G6         S\n",
            "1             76       No       3  ...   7.6500  F G73         S\n",
            "2            641       No       3  ...   7.8542     G6         S\n",
            "3            568       No       3  ...  21.0750     G6         S\n",
            "4            672       No       1  ...  52.0000    B71         S\n",
            "..           ...      ...     ...  ...      ...    ...       ...\n",
            "886           10      Yes       2  ...  30.0708     G6         C\n",
            "887           61       No       3  ...   7.2292     G6         C\n",
            "888          535       No       3  ...   8.6625     G6         S\n",
            "889          102       No       3  ...   7.8958     G6         S\n",
            "890          428      Yes       2  ...  26.0000     G6         S\n",
            "\n",
            "[889 rows x 12 columns]\n",
            "<class 'pandas.core.frame.DataFrame'>\n",
            "Int64Index: 889 entries, 0 to 890\n",
            "Data columns (total 12 columns):\n",
            " #   Column       Non-Null Count  Dtype  \n",
            "---  ------       --------------  -----  \n",
            " 0   PassengerId  889 non-null    int64  \n",
            " 1   Survived     889 non-null    object \n",
            " 2   Pclass       889 non-null    int64  \n",
            " 3   Name         889 non-null    object \n",
            " 4   Sex          889 non-null    object \n",
            " 5   Age          889 non-null    float64\n",
            " 6   SibSp        889 non-null    int64  \n",
            " 7   Parch        889 non-null    int64  \n",
            " 8   Ticket       889 non-null    object \n",
            " 9   Fare         889 non-null    float64\n",
            " 10  Cabin        889 non-null    object \n",
            " 11  Embarked     889 non-null    object \n",
            "dtypes: float64(2), int64(4), object(6)\n",
            "memory usage: 130.3+ KB\n"
          ],
          "name": "stdout"
        }
      ]
    },
    {
      "cell_type": "code",
      "metadata": {
        "id": "QIUw_p_6gidT",
        "outputId": "6ccbe2f7-fd0c-4c41-ae19-8c76d3f5ee52",
        "colab": {
          "base_uri": "https://localhost:8080/"
        }
      },
      "source": [
        "one_hot_sex = pd.get_dummies(data[\"Sex\"])\n",
        "data=data.drop([\"Sex\"],axis=1)\n",
        "data=data.join(one_hot_sex)\n",
        "from sklearn.preprocessing import LabelEncoder #print(encoder.get_params didnt work)\n",
        "encoder=LabelEncoder() \n",
        "encoder1=LabelEncoder() \n",
        "encoder2=LabelEncoder() \n",
        "\n",
        "data[\"Survived\"]=encoder1.fit_transform(data[\"Survived\"])\n",
        "\n",
        "data[\"Ticket\"]=encoder.fit_transform(data[\"Ticket\"])\n",
        "data[\"Cabin\"]=encoder2.fit_transform(data[\"Cabin\"])\n",
        "data[\"Embarked\"]=encoder.fit_transform(data[\"Embarked\"])\n",
        "data.head()"
      ],
      "execution_count": null,
      "outputs": [
        {
          "output_type": "execute_result",
          "data": {
            "text/html": [
              "<div>\n",
              "<style scoped>\n",
              "    .dataframe tbody tr th:only-of-type {\n",
              "        vertical-align: middle;\n",
              "    }\n",
              "\n",
              "    .dataframe tbody tr th {\n",
              "        vertical-align: top;\n",
              "    }\n",
              "\n",
              "    .dataframe thead th {\n",
              "        text-align: right;\n",
              "    }\n",
              "</style>\n",
              "<table border=\"1\" class=\"dataframe\">\n",
              "  <thead>\n",
              "    <tr style=\"text-align: right;\">\n",
              "      <th></th>\n",
              "      <th>PassengerId</th>\n",
              "      <th>Survived</th>\n",
              "      <th>Pclass</th>\n",
              "      <th>Name</th>\n",
              "      <th>Age</th>\n",
              "      <th>SibSp</th>\n",
              "      <th>Parch</th>\n",
              "      <th>Ticket</th>\n",
              "      <th>Fare</th>\n",
              "      <th>Cabin</th>\n",
              "      <th>Embarked</th>\n",
              "      <th>female</th>\n",
              "      <th>male</th>\n",
              "    </tr>\n",
              "  </thead>\n",
              "  <tbody>\n",
              "    <tr>\n",
              "      <th>0</th>\n",
              "      <td>343</td>\n",
              "      <td>0</td>\n",
              "      <td>2</td>\n",
              "      <td>Collander, Mr. Erik Gustaf</td>\n",
              "      <td>28.0</td>\n",
              "      <td>0</td>\n",
              "      <td>0</td>\n",
              "      <td>158</td>\n",
              "      <td>13.0000</td>\n",
              "      <td>144</td>\n",
              "      <td>2</td>\n",
              "      <td>0</td>\n",
              "      <td>1</td>\n",
              "    </tr>\n",
              "    <tr>\n",
              "      <th>1</th>\n",
              "      <td>76</td>\n",
              "      <td>0</td>\n",
              "      <td>3</td>\n",
              "      <td>Moen, Mr. Sigurd Hansen</td>\n",
              "      <td>25.0</td>\n",
              "      <td>0</td>\n",
              "      <td>0</td>\n",
              "      <td>346</td>\n",
              "      <td>7.6500</td>\n",
              "      <td>139</td>\n",
              "      <td>2</td>\n",
              "      <td>0</td>\n",
              "      <td>1</td>\n",
              "    </tr>\n",
              "    <tr>\n",
              "      <th>2</th>\n",
              "      <td>641</td>\n",
              "      <td>0</td>\n",
              "      <td>3</td>\n",
              "      <td>Jensen, Mr. Hans Peder</td>\n",
              "      <td>20.0</td>\n",
              "      <td>0</td>\n",
              "      <td>0</td>\n",
              "      <td>408</td>\n",
              "      <td>7.8542</td>\n",
              "      <td>144</td>\n",
              "      <td>2</td>\n",
              "      <td>0</td>\n",
              "      <td>1</td>\n",
              "    </tr>\n",
              "    <tr>\n",
              "      <th>3</th>\n",
              "      <td>568</td>\n",
              "      <td>0</td>\n",
              "      <td>3</td>\n",
              "      <td>Palsson, Mrs. Nils (Alma Cornelia Berglund)</td>\n",
              "      <td>29.0</td>\n",
              "      <td>0</td>\n",
              "      <td>4</td>\n",
              "      <td>394</td>\n",
              "      <td>21.0750</td>\n",
              "      <td>144</td>\n",
              "      <td>2</td>\n",
              "      <td>1</td>\n",
              "      <td>0</td>\n",
              "    </tr>\n",
              "    <tr>\n",
              "      <th>4</th>\n",
              "      <td>672</td>\n",
              "      <td>0</td>\n",
              "      <td>1</td>\n",
              "      <td>Davidson, Mr. Thornton</td>\n",
              "      <td>31.0</td>\n",
              "      <td>1</td>\n",
              "      <td>0</td>\n",
              "      <td>568</td>\n",
              "      <td>52.0000</td>\n",
              "      <td>37</td>\n",
              "      <td>2</td>\n",
              "      <td>0</td>\n",
              "      <td>1</td>\n",
              "    </tr>\n",
              "  </tbody>\n",
              "</table>\n",
              "</div>"
            ],
            "text/plain": [
              "   PassengerId  Survived  Pclass  ... Embarked  female  male\n",
              "0          343         0       2  ...        2       0     1\n",
              "1           76         0       3  ...        2       0     1\n",
              "2          641         0       3  ...        2       0     1\n",
              "3          568         0       3  ...        2       1     0\n",
              "4          672         0       1  ...        2       0     1\n",
              "\n",
              "[5 rows x 13 columns]"
            ]
          },
          "metadata": {
            "tags": []
          },
          "execution_count": 49
        }
      ]
    },
    {
      "cell_type": "code",
      "metadata": {
        "id": "6Cp1VHhLhBTJ",
        "outputId": "6eca2f12-1988-45ee-9f2f-9dd23bbf7001",
        "colab": {
          "base_uri": "https://localhost:8080/"
        }
      },
      "source": [
        "keys = encoder.classes_\n",
        "values = encoder.transform(encoder.classes_)\n",
        "dictionary = dict(zip(keys, values))\n",
        "print(dictionary)\n",
        "keys = encoder1.classes_\n",
        "values = encoder1.transform(encoder1.classes_)\n",
        "dictionary1 = dict(zip(keys, values))\n",
        "print(dictionary1)\n",
        "keys = encoder2.classes_\n",
        "values = encoder2.transform(encoder2.classes_)\n",
        "dictionary2 = dict(zip(keys, values))\n",
        "print(dictionary2)"
      ],
      "execution_count": null,
      "outputs": [
        {
          "output_type": "stream",
          "text": [
            "{'C': 0, 'Q': 1, 'S': 2}\n",
            "{'No': 0, 'Yes': 1}\n",
            "{'A10': 0, 'A14': 1, 'A16': 2, 'A19': 3, 'A20': 4, 'A23': 5, 'A24': 6, 'A26': 7, 'A31': 8, 'A32': 9, 'A34': 10, 'A36': 11, 'A5': 12, 'A6': 13, 'A7': 14, 'B101': 15, 'B102': 16, 'B18': 17, 'B19': 18, 'B20': 19, 'B22': 20, 'B3': 21, 'B30': 22, 'B35': 23, 'B37': 24, 'B38': 25, 'B39': 26, 'B4': 27, 'B41': 28, 'B42': 29, 'B49': 30, 'B5': 31, 'B50': 32, 'B51 B53 B55': 33, 'B57 B59 B63 B66': 34, 'B58 B60': 35, 'B69': 36, 'B71': 37, 'B73': 38, 'B77': 39, 'B78': 40, 'B79': 41, 'B80': 42, 'B82 B84': 43, 'B86': 44, 'B94': 45, 'B96 B98': 46, 'C101': 47, 'C103': 48, 'C104': 49, 'C106': 50, 'C110': 51, 'C111': 52, 'C118': 53, 'C123': 54, 'C124': 55, 'C125': 56, 'C126': 57, 'C128': 58, 'C148': 59, 'C2': 60, 'C22 C26': 61, 'C23 C25 C27': 62, 'C30': 63, 'C32': 64, 'C45': 65, 'C46': 66, 'C47': 67, 'C49': 68, 'C50': 69, 'C52': 70, 'C54': 71, 'C62 C64': 72, 'C65': 73, 'C68': 74, 'C7': 75, 'C70': 76, 'C78': 77, 'C82': 78, 'C83': 79, 'C85': 80, 'C86': 81, 'C87': 82, 'C90': 83, 'C91': 84, 'C92': 85, 'C93': 86, 'C95': 87, 'C99': 88, 'D': 89, 'D10 D12': 90, 'D11': 91, 'D15': 92, 'D17': 93, 'D19': 94, 'D20': 95, 'D21': 96, 'D26': 97, 'D28': 98, 'D30': 99, 'D33': 100, 'D35': 101, 'D36': 102, 'D37': 103, 'D45': 104, 'D46': 105, 'D47': 106, 'D48': 107, 'D49': 108, 'D50': 109, 'D56': 110, 'D6': 111, 'D7': 112, 'D9': 113, 'E10': 114, 'E101': 115, 'E12': 116, 'E121': 117, 'E17': 118, 'E24': 119, 'E25': 120, 'E31': 121, 'E33': 122, 'E34': 123, 'E36': 124, 'E38': 125, 'E40': 126, 'E44': 127, 'E46': 128, 'E49': 129, 'E50': 130, 'E58': 131, 'E63': 132, 'E67': 133, 'E68': 134, 'E77': 135, 'E8': 136, 'F E69': 137, 'F G63': 138, 'F G73': 139, 'F2': 140, 'F33': 141, 'F38': 142, 'F4': 143, 'G6': 144, 'T': 145}\n"
          ],
          "name": "stdout"
        }
      ]
    },
    {
      "cell_type": "code",
      "metadata": {
        "id": "oYKe488HhEEx",
        "outputId": "0ab5ab03-ae23-4fae-b6b0-d02e1c94ad5d",
        "colab": {
          "base_uri": "https://localhost:8080/"
        }
      },
      "source": [
        "data.info()"
      ],
      "execution_count": null,
      "outputs": [
        {
          "output_type": "stream",
          "text": [
            "<class 'pandas.core.frame.DataFrame'>\n",
            "Int64Index: 889 entries, 0 to 890\n",
            "Data columns (total 13 columns):\n",
            " #   Column       Non-Null Count  Dtype  \n",
            "---  ------       --------------  -----  \n",
            " 0   PassengerId  889 non-null    int64  \n",
            " 1   Survived     889 non-null    int64  \n",
            " 2   Pclass       889 non-null    int64  \n",
            " 3   Name         889 non-null    object \n",
            " 4   Age          889 non-null    float64\n",
            " 5   SibSp        889 non-null    int64  \n",
            " 6   Parch        889 non-null    int64  \n",
            " 7   Ticket       889 non-null    int64  \n",
            " 8   Fare         889 non-null    float64\n",
            " 9   Cabin        889 non-null    int64  \n",
            " 10  Embarked     889 non-null    int64  \n",
            " 11  female       889 non-null    uint8  \n",
            " 12  male         889 non-null    uint8  \n",
            "dtypes: float64(2), int64(8), object(1), uint8(2)\n",
            "memory usage: 125.1+ KB\n"
          ],
          "name": "stdout"
        }
      ]
    },
    {
      "cell_type": "markdown",
      "metadata": {
        "id": "GZurmixQfOuR"
      },
      "source": [
        "# Correlation\n",
        "\n"
      ]
    },
    {
      "cell_type": "code",
      "metadata": {
        "id": "1yxVm-xIqGIY"
      },
      "source": [
        "def plot_correlation_map( df ):\n",
        "\n",
        "    corr = df.corr()\n",
        "\n",
        "    s , ax = plt.subplots( figsize =( 12 , 10 ) )\n",
        "\n",
        "    cmap = sns.diverging_palette( 220 , 10 , as_cmap = True )\n",
        "\n",
        "    s = sns.heatmap(\n",
        "\n",
        "        corr, \n",
        "\n",
        "        cmap = cmap,\n",
        "\n",
        "        square=True, \n",
        "\n",
        "        cbar_kws={ 'shrink' : .9 }, \n",
        "\n",
        "        ax=ax, \n",
        "\n",
        "        annot = True, \n",
        "\n",
        "        annot_kws = { 'fontsize' : 12 }\n",
        "\n",
        "        )"
      ],
      "execution_count": null,
      "outputs": []
    },
    {
      "cell_type": "code",
      "metadata": {
        "id": "PzEncifK0FHM",
        "outputId": "6bf914e6-56ba-4759-abd6-3da5759e17f3",
        "colab": {
          "base_uri": "https://localhost:8080/",
          "height": 643
        }
      },
      "source": [
        "plot_correlation_map( data )"
      ],
      "execution_count": null,
      "outputs": [
        {
          "output_type": "display_data",
          "data": {
            "image/png": "[encoded data removed]",
            "text/plain": [
              "<Figure size 864x720 with 2 Axes>"
            ]
          },
          "metadata": {
            "tags": []
          }
        }
      ]
    },
    {
      "cell_type": "markdown",
      "metadata": {
        "id": "OH-Tm8mg9BGZ"
      },
      "source": [
        "this function shows the  value of correlation between numerical features . it  helps us to understand our dataset even further and to distinguish the important ones for some machine learning algorithm \n",
        "we can notice that there s strong positive correlation  between \n",
        "1.   Survived/female(0.54)\n",
        "2.  Fare /Survived(0.26)\n",
        "3.  \n",
        "these features vary in the same way (exp : if one incrases the other will increase too ) \n",
        "whereas  there s strong negative correlation  between \n",
        "1.   Survived /male(-0.55)\n",
        "2.   survived /Pclass(-0.34)\n",
        "3.   survived/ticket(-0.16)\n",
        "2.   survived /cabin(-0.25)\n",
        "3.   survived/embarked(-0.17)\n",
        "these features vary in the opposite way (exp : if one incrases the other will decrease ) \n",
        "for the rest there s almost no remarkable correlation \n",
        "\n",
        "\n",
        "\n",
        "\n",
        "\n",
        "\n"
      ]
    },
    {
      "cell_type": "code",
      "metadata": {
        "id": "jssCBm4BB3_s",
        "outputId": "a23cc5ab-877b-4843-985f-de76fa24acce",
        "colab": {
          "base_uri": "https://localhost:8080/",
          "height": 166
        }
      },
      "source": [
        "from sklearn.preprocessing import  LabelEncoder\n",
        "encoder=LabelEncoder() \n",
        "data[\"Survived\"]=encoder.fit_transform(data[\"Survived\"])\n",
        "\n",
        "data[[\"Pclass\",\"Survived\"]].groupby([\"Pclass\"],as_index=True).mean()"
      ],
      "execution_count": null,
      "outputs": [
        {
          "output_type": "execute_result",
          "data": {
            "text/html": [
              "<div>\n",
              "<style scoped>\n",
              "    .dataframe tbody tr th:only-of-type {\n",
              "        vertical-align: middle;\n",
              "    }\n",
              "\n",
              "    .dataframe tbody tr th {\n",
              "        vertical-align: top;\n",
              "    }\n",
              "\n",
              "    .dataframe thead th {\n",
              "        text-align: right;\n",
              "    }\n",
              "</style>\n",
              "<table border=\"1\" class=\"dataframe\">\n",
              "  <thead>\n",
              "    <tr style=\"text-align: right;\">\n",
              "      <th></th>\n",
              "      <th>Survived</th>\n",
              "    </tr>\n",
              "    <tr>\n",
              "      <th>Pclass</th>\n",
              "      <th></th>\n",
              "    </tr>\n",
              "  </thead>\n",
              "  <tbody>\n",
              "    <tr>\n",
              "      <th>1</th>\n",
              "      <td>0.626168</td>\n",
              "    </tr>\n",
              "    <tr>\n",
              "      <th>2</th>\n",
              "      <td>0.472826</td>\n",
              "    </tr>\n",
              "    <tr>\n",
              "      <th>3</th>\n",
              "      <td>0.242363</td>\n",
              "    </tr>\n",
              "  </tbody>\n",
              "</table>\n",
              "</div>"
            ],
            "text/plain": [
              "        Survived\n",
              "Pclass          \n",
              "1       0.626168\n",
              "2       0.472826\n",
              "3       0.242363"
            ]
          },
          "metadata": {
            "tags": []
          },
          "execution_count": 54
        }
      ]
    },
    {
      "cell_type": "code",
      "metadata": {
        "id": "udrxR1rTCQtW",
        "outputId": "2da8d99d-1a78-468e-b746-5de24a419892",
        "colab": {
          "base_uri": "https://localhost:8080/",
          "height": 319
        }
      },
      "source": [
        "data.drop([\"PassengerId\",\"Ticket\"],axis=1,inplace=True)\n",
        "data.info()\n"
      ],
      "execution_count": null,
      "outputs": [
        {
          "output_type": "stream",
          "text": [
            "<class 'pandas.core.frame.DataFrame'>\n",
            "Int64Index: 889 entries, 0 to 890\n",
            "Data columns (total 11 columns):\n",
            " #   Column    Non-Null Count  Dtype  \n",
            "---  ------    --------------  -----  \n",
            " 0   Survived  889 non-null    int64  \n",
            " 1   Pclass    889 non-null    int64  \n",
            " 2   Name      889 non-null    object \n",
            " 3   Age       889 non-null    float64\n",
            " 4   SibSp     889 non-null    int64  \n",
            " 5   Parch     889 non-null    int64  \n",
            " 6   Fare      889 non-null    float64\n",
            " 7   Cabin     889 non-null    int64  \n",
            " 8   Embarked  889 non-null    int64  \n",
            " 9   female    889 non-null    uint8  \n",
            " 10  male      889 non-null    uint8  \n",
            "dtypes: float64(2), int64(6), object(1), uint8(2)\n",
            "memory usage: 111.2+ KB\n"
          ],
          "name": "stdout"
        }
      ]
    },
    {
      "cell_type": "code",
      "metadata": {
        "id": "MVQ_-bNYSIda",
        "outputId": "bff23b9f-6d1e-42bb-d16a-5c3f6a1cfdb8",
        "colab": {
          "base_uri": "https://localhost:8080/",
          "height": 118
        }
      },
      "source": [
        "data[\"Name\"].tail()"
      ],
      "execution_count": null,
      "outputs": [
        {
          "output_type": "execute_result",
          "data": {
            "text/plain": [
              "886                  Nasser, Mrs. Nicholas (Adele Achem)\n",
              "887                                Sirayanian, Mr. Orsen\n",
              "888                                  Cacic, Miss. Marija\n",
              "889                     Petroff, Mr. Pastcho (\"Pentcho\")\n",
              "890    Phillips, Miss. Kate Florence (\"Mrs Kate Louis...\n",
              "Name: Name, dtype: object"
            ]
          },
          "metadata": {
            "tags": []
          },
          "execution_count": 56
        }
      ]
    },
    {
      "cell_type": "code",
      "metadata": {
        "id": "OszPVLMsX7dZ"
      },
      "source": [
        "import numpy as np \n",
        "tab=data[\"Name\"]\n",
        "tabb=np.array([])\n",
        " \n",
        "for x in tab :\n",
        "    x=x.split(\", \")\n",
        "    x=x[1]\n",
        "    x=x.split(\".\")\n",
        "    tabb=np.append(tabb, x[0])\n",
        "\n",
        "data=data.drop('Name',axis=1)\n",
        "data[\"Title\"]=tabb\n"
      ],
      "execution_count": null,
      "outputs": []
    },
    {
      "cell_type": "code",
      "metadata": {
        "id": "8R7yIoqAY1qd",
        "outputId": "6a6aec83-ef9b-4b37-9c20-88153872b043",
        "colab": {
          "base_uri": "https://localhost:8080/",
          "height": 218
        }
      },
      "source": [
        "data.isnull().sum()\n"
      ],
      "execution_count": null,
      "outputs": [
        {
          "output_type": "execute_result",
          "data": {
            "text/plain": [
              "Survived    0\n",
              "Pclass      0\n",
              "Age         0\n",
              "SibSp       0\n",
              "Parch       0\n",
              "Fare        0\n",
              "Cabin       0\n",
              "Embarked    0\n",
              "female      0\n",
              "male        0\n",
              "Title       0\n",
              "dtype: int64"
            ]
          },
          "metadata": {
            "tags": []
          },
          "execution_count": 58
        }
      ]
    },
    {
      "cell_type": "code",
      "metadata": {
        "id": "rnVHDOCveCiU",
        "outputId": "282fbcf8-7007-481e-cd57-3cd9b3bce8d9",
        "colab": {
          "base_uri": "https://localhost:8080/",
          "height": 218
        }
      },
      "source": [
        "data.dropna(how=\"any\",inplace=True)\n",
        "data.isnull().sum()"
      ],
      "execution_count": null,
      "outputs": [
        {
          "output_type": "execute_result",
          "data": {
            "text/plain": [
              "Survived    0\n",
              "Pclass      0\n",
              "Age         0\n",
              "SibSp       0\n",
              "Parch       0\n",
              "Fare        0\n",
              "Cabin       0\n",
              "Embarked    0\n",
              "female      0\n",
              "male        0\n",
              "Title       0\n",
              "dtype: int64"
            ]
          },
          "metadata": {
            "tags": []
          },
          "execution_count": 59
        }
      ]
    },
    {
      "cell_type": "code",
      "metadata": {
        "id": "SNnrafddnF51",
        "outputId": "119862cf-46da-4605-c111-d8819495a374",
        "colab": {
          "base_uri": "https://localhost:8080/",
          "height": 195
        }
      },
      "source": [
        "from sklearn.preprocessing import LabelEncoder \n",
        "encoder=LabelEncoder() \n",
        "data[\"Title\"]=encoder.fit_transform(data[\"Title\"])\n",
        "data.head()"
      ],
      "execution_count": null,
      "outputs": [
        {
          "output_type": "execute_result",
          "data": {
            "text/html": [
              "<div>\n",
              "<style scoped>\n",
              "    .dataframe tbody tr th:only-of-type {\n",
              "        vertical-align: middle;\n",
              "    }\n",
              "\n",
              "    .dataframe tbody tr th {\n",
              "        vertical-align: top;\n",
              "    }\n",
              "\n",
              "    .dataframe thead th {\n",
              "        text-align: right;\n",
              "    }\n",
              "</style>\n",
              "<table border=\"1\" class=\"dataframe\">\n",
              "  <thead>\n",
              "    <tr style=\"text-align: right;\">\n",
              "      <th></th>\n",
              "      <th>Survived</th>\n",
              "      <th>Pclass</th>\n",
              "      <th>Age</th>\n",
              "      <th>SibSp</th>\n",
              "      <th>Parch</th>\n",
              "      <th>Fare</th>\n",
              "      <th>Cabin</th>\n",
              "      <th>Embarked</th>\n",
              "      <th>female</th>\n",
              "      <th>male</th>\n",
              "      <th>Title</th>\n",
              "    </tr>\n",
              "  </thead>\n",
              "  <tbody>\n",
              "    <tr>\n",
              "      <th>0</th>\n",
              "      <td>0</td>\n",
              "      <td>2</td>\n",
              "      <td>28.0</td>\n",
              "      <td>0</td>\n",
              "      <td>0</td>\n",
              "      <td>13.0000</td>\n",
              "      <td>144</td>\n",
              "      <td>2</td>\n",
              "      <td>0</td>\n",
              "      <td>1</td>\n",
              "      <td>11</td>\n",
              "    </tr>\n",
              "    <tr>\n",
              "      <th>1</th>\n",
              "      <td>0</td>\n",
              "      <td>3</td>\n",
              "      <td>25.0</td>\n",
              "      <td>0</td>\n",
              "      <td>0</td>\n",
              "      <td>7.6500</td>\n",
              "      <td>139</td>\n",
              "      <td>2</td>\n",
              "      <td>0</td>\n",
              "      <td>1</td>\n",
              "      <td>11</td>\n",
              "    </tr>\n",
              "    <tr>\n",
              "      <th>2</th>\n",
              "      <td>0</td>\n",
              "      <td>3</td>\n",
              "      <td>20.0</td>\n",
              "      <td>0</td>\n",
              "      <td>0</td>\n",
              "      <td>7.8542</td>\n",
              "      <td>144</td>\n",
              "      <td>2</td>\n",
              "      <td>0</td>\n",
              "      <td>1</td>\n",
              "      <td>11</td>\n",
              "    </tr>\n",
              "    <tr>\n",
              "      <th>3</th>\n",
              "      <td>0</td>\n",
              "      <td>3</td>\n",
              "      <td>29.0</td>\n",
              "      <td>0</td>\n",
              "      <td>4</td>\n",
              "      <td>21.0750</td>\n",
              "      <td>144</td>\n",
              "      <td>2</td>\n",
              "      <td>1</td>\n",
              "      <td>0</td>\n",
              "      <td>12</td>\n",
              "    </tr>\n",
              "    <tr>\n",
              "      <th>4</th>\n",
              "      <td>0</td>\n",
              "      <td>1</td>\n",
              "      <td>31.0</td>\n",
              "      <td>1</td>\n",
              "      <td>0</td>\n",
              "      <td>52.0000</td>\n",
              "      <td>37</td>\n",
              "      <td>2</td>\n",
              "      <td>0</td>\n",
              "      <td>1</td>\n",
              "      <td>11</td>\n",
              "    </tr>\n",
              "  </tbody>\n",
              "</table>\n",
              "</div>"
            ],
            "text/plain": [
              "   Survived  Pclass   Age  SibSp  Parch  ...  Cabin  Embarked  female  male  Title\n",
              "0         0       2  28.0      0      0  ...    144         2       0     1     11\n",
              "1         0       3  25.0      0      0  ...    139         2       0     1     11\n",
              "2         0       3  20.0      0      0  ...    144         2       0     1     11\n",
              "3         0       3  29.0      0      4  ...    144         2       1     0     12\n",
              "4         0       1  31.0      1      0  ...     37         2       0     1     11\n",
              "\n",
              "[5 rows x 11 columns]"
            ]
          },
          "metadata": {
            "tags": []
          },
          "execution_count": 60
        }
      ]
    },
    {
      "cell_type": "code",
      "metadata": {
        "id": "PNiaDmCQnU16",
        "outputId": "23a69273-a866-4e4c-e0ef-d20b5a0e471e",
        "colab": {
          "base_uri": "https://localhost:8080/",
          "height": 319
        }
      },
      "source": [
        "data.info()"
      ],
      "execution_count": null,
      "outputs": [
        {
          "output_type": "stream",
          "text": [
            "<class 'pandas.core.frame.DataFrame'>\n",
            "Int64Index: 889 entries, 0 to 890\n",
            "Data columns (total 11 columns):\n",
            " #   Column    Non-Null Count  Dtype  \n",
            "---  ------    --------------  -----  \n",
            " 0   Survived  889 non-null    int64  \n",
            " 1   Pclass    889 non-null    int64  \n",
            " 2   Age       889 non-null    float64\n",
            " 3   SibSp     889 non-null    int64  \n",
            " 4   Parch     889 non-null    int64  \n",
            " 5   Fare      889 non-null    float64\n",
            " 6   Cabin     889 non-null    int64  \n",
            " 7   Embarked  889 non-null    int64  \n",
            " 8   female    889 non-null    uint8  \n",
            " 9   male      889 non-null    uint8  \n",
            " 10  Title     889 non-null    int64  \n",
            "dtypes: float64(2), int64(7), uint8(2)\n",
            "memory usage: 71.2 KB\n"
          ],
          "name": "stdout"
        }
      ]
    },
    {
      "cell_type": "code",
      "metadata": {
        "id": "LhhvxeW6oram",
        "outputId": "193f30f4-2fdf-4eb0-c701-672b3d856c35",
        "colab": {
          "base_uri": "https://localhost:8080/",
          "height": 586
        }
      },
      "source": [
        "plot_correlation_map( data )"
      ],
      "execution_count": null,
      "outputs": [
        {
          "output_type": "display_data",
          "data": {
            "image/png": "[encoded data removed]",
            "text/plain": [
              "<Figure size 864x720 with 2 Axes>"
            ]
          },
          "metadata": {
            "tags": []
          }
        }
      ]
    },
    {
      "cell_type": "code",
      "metadata": {
        "id": "jfTGVo7ZpNn5",
        "outputId": "e140581f-fb36-4786-b21d-29ba549b1ec8",
        "colab": {
          "base_uri": "https://localhost:8080/",
          "height": 319
        }
      },
      "source": [
        "Title_Dictionary = {\"Title\":{\"Capt\":\"Officer\", \"Col\":\"Officer\",\"Major\":\"Officer\",\"Dr\":\"Officer\", \"Rev\":\"Officer\" ,\n",
        "\"Jonkheer\": \"Royalty\", \"Don\":\"Royalty\", \"Sir\" :\"Royalty\",\"Lady\" :\"Royalty\",\"the Countess\": \"Royalty\", \"Dona\":\"Royalty\"\n",
        ",\n",
        " \"Mme\":\"Miss\",\"Mlle\": \"Miss\",\"Miss\" :\"Miss\",\"Ms\": \"Mrs\", \"Mr\" :\"Mrs\",\"Mrs\" :\"Mrs\"\n",
        " ,\n",
        "  \"Master\":\"Master\"\n",
        "\n",
        "                    }}\n",
        "Title_Dictionary"
      ],
      "execution_count": null,
      "outputs": [
        {
          "output_type": "execute_result",
          "data": {
            "text/plain": [
              "{'Title': {'Capt': 'Officer',\n",
              "  'Col': 'Officer',\n",
              "  'Don': 'Royalty',\n",
              "  'Dona': 'Royalty',\n",
              "  'Dr': 'Officer',\n",
              "  'Jonkheer': 'Royalty',\n",
              "  'Lady': 'Royalty',\n",
              "  'Major': 'Officer',\n",
              "  'Master': 'Master',\n",
              "  'Miss': 'Miss',\n",
              "  'Mlle': 'Miss',\n",
              "  'Mme': 'Miss',\n",
              "  'Mr': 'Mrs',\n",
              "  'Mrs': 'Mrs',\n",
              "  'Ms': 'Mrs',\n",
              "  'Rev': 'Officer',\n",
              "  'Sir': 'Royalty',\n",
              "  'the Countess': 'Royalty'}}"
            ]
          },
          "metadata": {
            "tags": []
          },
          "execution_count": 63
        }
      ]
    },
    {
      "cell_type": "code",
      "metadata": {
        "id": "OD_iOulEp7SA",
        "outputId": "8fc7c748-fa4b-4c53-9bce-7325f7eff33e",
        "colab": {
          "base_uri": "https://localhost:8080/",
          "height": 218
        }
      },
      "source": [
        "data[\"Title\"]=encoder.inverse_transform(data[\"Title\"])\n",
        "data[\"Title\"]"
      ],
      "execution_count": null,
      "outputs": [
        {
          "output_type": "execute_result",
          "data": {
            "text/plain": [
              "0        Mr\n",
              "1        Mr\n",
              "2        Mr\n",
              "3       Mrs\n",
              "4        Mr\n",
              "       ... \n",
              "886     Mrs\n",
              "887      Mr\n",
              "888    Miss\n",
              "889      Mr\n",
              "890    Miss\n",
              "Name: Title, Length: 889, dtype: object"
            ]
          },
          "metadata": {
            "tags": []
          },
          "execution_count": 64
        }
      ]
    },
    {
      "cell_type": "code",
      "metadata": {
        "id": "MQCYGyIJrwM0",
        "outputId": "2bd4910a-1662-4003-c4f8-098b75f342e5",
        "colab": {
          "base_uri": "https://localhost:8080/",
          "height": 402
        }
      },
      "source": [
        "data.replace(Title_Dictionary,inplace=True)\n",
        "data "
      ],
      "execution_count": null,
      "outputs": [
        {
          "output_type": "execute_result",
          "data": {
            "text/html": [
              "<div>\n",
              "<style scoped>\n",
              "    .dataframe tbody tr th:only-of-type {\n",
              "        vertical-align: middle;\n",
              "    }\n",
              "\n",
              "    .dataframe tbody tr th {\n",
              "        vertical-align: top;\n",
              "    }\n",
              "\n",
              "    .dataframe thead th {\n",
              "        text-align: right;\n",
              "    }\n",
              "</style>\n",
              "<table border=\"1\" class=\"dataframe\">\n",
              "  <thead>\n",
              "    <tr style=\"text-align: right;\">\n",
              "      <th></th>\n",
              "      <th>Survived</th>\n",
              "      <th>Pclass</th>\n",
              "      <th>Age</th>\n",
              "      <th>SibSp</th>\n",
              "      <th>Parch</th>\n",
              "      <th>Fare</th>\n",
              "      <th>Cabin</th>\n",
              "      <th>Embarked</th>\n",
              "      <th>female</th>\n",
              "      <th>male</th>\n",
              "      <th>Title</th>\n",
              "    </tr>\n",
              "  </thead>\n",
              "  <tbody>\n",
              "    <tr>\n",
              "      <th>0</th>\n",
              "      <td>0</td>\n",
              "      <td>2</td>\n",
              "      <td>28.000000</td>\n",
              "      <td>0</td>\n",
              "      <td>0</td>\n",
              "      <td>13.0000</td>\n",
              "      <td>144</td>\n",
              "      <td>2</td>\n",
              "      <td>0</td>\n",
              "      <td>1</td>\n",
              "      <td>Mrs</td>\n",
              "    </tr>\n",
              "    <tr>\n",
              "      <th>1</th>\n",
              "      <td>0</td>\n",
              "      <td>3</td>\n",
              "      <td>25.000000</td>\n",
              "      <td>0</td>\n",
              "      <td>0</td>\n",
              "      <td>7.6500</td>\n",
              "      <td>139</td>\n",
              "      <td>2</td>\n",
              "      <td>0</td>\n",
              "      <td>1</td>\n",
              "      <td>Mrs</td>\n",
              "    </tr>\n",
              "    <tr>\n",
              "      <th>2</th>\n",
              "      <td>0</td>\n",
              "      <td>3</td>\n",
              "      <td>20.000000</td>\n",
              "      <td>0</td>\n",
              "      <td>0</td>\n",
              "      <td>7.8542</td>\n",
              "      <td>144</td>\n",
              "      <td>2</td>\n",
              "      <td>0</td>\n",
              "      <td>1</td>\n",
              "      <td>Mrs</td>\n",
              "    </tr>\n",
              "    <tr>\n",
              "      <th>3</th>\n",
              "      <td>0</td>\n",
              "      <td>3</td>\n",
              "      <td>29.000000</td>\n",
              "      <td>0</td>\n",
              "      <td>4</td>\n",
              "      <td>21.0750</td>\n",
              "      <td>144</td>\n",
              "      <td>2</td>\n",
              "      <td>1</td>\n",
              "      <td>0</td>\n",
              "      <td>Mrs</td>\n",
              "    </tr>\n",
              "    <tr>\n",
              "      <th>4</th>\n",
              "      <td>0</td>\n",
              "      <td>1</td>\n",
              "      <td>31.000000</td>\n",
              "      <td>1</td>\n",
              "      <td>0</td>\n",
              "      <td>52.0000</td>\n",
              "      <td>37</td>\n",
              "      <td>2</td>\n",
              "      <td>0</td>\n",
              "      <td>1</td>\n",
              "      <td>Mrs</td>\n",
              "    </tr>\n",
              "    <tr>\n",
              "      <th>...</th>\n",
              "      <td>...</td>\n",
              "      <td>...</td>\n",
              "      <td>...</td>\n",
              "      <td>...</td>\n",
              "      <td>...</td>\n",
              "      <td>...</td>\n",
              "      <td>...</td>\n",
              "      <td>...</td>\n",
              "      <td>...</td>\n",
              "      <td>...</td>\n",
              "      <td>...</td>\n",
              "    </tr>\n",
              "    <tr>\n",
              "      <th>886</th>\n",
              "      <td>1</td>\n",
              "      <td>2</td>\n",
              "      <td>14.000000</td>\n",
              "      <td>1</td>\n",
              "      <td>0</td>\n",
              "      <td>30.0708</td>\n",
              "      <td>144</td>\n",
              "      <td>0</td>\n",
              "      <td>1</td>\n",
              "      <td>0</td>\n",
              "      <td>Mrs</td>\n",
              "    </tr>\n",
              "    <tr>\n",
              "      <th>887</th>\n",
              "      <td>0</td>\n",
              "      <td>3</td>\n",
              "      <td>22.000000</td>\n",
              "      <td>0</td>\n",
              "      <td>0</td>\n",
              "      <td>7.2292</td>\n",
              "      <td>144</td>\n",
              "      <td>0</td>\n",
              "      <td>0</td>\n",
              "      <td>1</td>\n",
              "      <td>Mrs</td>\n",
              "    </tr>\n",
              "    <tr>\n",
              "      <th>888</th>\n",
              "      <td>0</td>\n",
              "      <td>3</td>\n",
              "      <td>30.000000</td>\n",
              "      <td>0</td>\n",
              "      <td>0</td>\n",
              "      <td>8.6625</td>\n",
              "      <td>144</td>\n",
              "      <td>2</td>\n",
              "      <td>1</td>\n",
              "      <td>0</td>\n",
              "      <td>Miss</td>\n",
              "    </tr>\n",
              "    <tr>\n",
              "      <th>889</th>\n",
              "      <td>0</td>\n",
              "      <td>3</td>\n",
              "      <td>29.699118</td>\n",
              "      <td>0</td>\n",
              "      <td>0</td>\n",
              "      <td>7.8958</td>\n",
              "      <td>144</td>\n",
              "      <td>2</td>\n",
              "      <td>0</td>\n",
              "      <td>1</td>\n",
              "      <td>Mrs</td>\n",
              "    </tr>\n",
              "    <tr>\n",
              "      <th>890</th>\n",
              "      <td>1</td>\n",
              "      <td>2</td>\n",
              "      <td>19.000000</td>\n",
              "      <td>0</td>\n",
              "      <td>0</td>\n",
              "      <td>26.0000</td>\n",
              "      <td>144</td>\n",
              "      <td>2</td>\n",
              "      <td>1</td>\n",
              "      <td>0</td>\n",
              "      <td>Miss</td>\n",
              "    </tr>\n",
              "  </tbody>\n",
              "</table>\n",
              "<p>889 rows × 11 columns</p>\n",
              "</div>"
            ],
            "text/plain": [
              "     Survived  Pclass        Age  SibSp  ...  Embarked  female  male  Title\n",
              "0           0       2  28.000000      0  ...         2       0     1    Mrs\n",
              "1           0       3  25.000000      0  ...         2       0     1    Mrs\n",
              "2           0       3  20.000000      0  ...         2       0     1    Mrs\n",
              "3           0       3  29.000000      0  ...         2       1     0    Mrs\n",
              "4           0       1  31.000000      1  ...         2       0     1    Mrs\n",
              "..        ...     ...        ...    ...  ...       ...     ...   ...    ...\n",
              "886         1       2  14.000000      1  ...         0       1     0    Mrs\n",
              "887         0       3  22.000000      0  ...         0       0     1    Mrs\n",
              "888         0       3  30.000000      0  ...         2       1     0   Miss\n",
              "889         0       3  29.699118      0  ...         2       0     1    Mrs\n",
              "890         1       2  19.000000      0  ...         2       1     0   Miss\n",
              "\n",
              "[889 rows x 11 columns]"
            ]
          },
          "metadata": {
            "tags": []
          },
          "execution_count": 65
        }
      ]
    },
    {
      "cell_type": "code",
      "metadata": {
        "id": "aaT2Yge0WMbt",
        "outputId": "d2abb2d1-852d-4f9e-c013-666ce3a20bac",
        "colab": {
          "base_uri": "https://localhost:8080/",
          "height": 118
        }
      },
      "source": [
        "data[\"Title\"].value_counts()"
      ],
      "execution_count": null,
      "outputs": [
        {
          "output_type": "execute_result",
          "data": {
            "text/plain": [
              "Mrs        642\n",
              "Miss       184\n",
              "Master      40\n",
              "Officer     18\n",
              "Royalty      5\n",
              "Name: Title, dtype: int64"
            ]
          },
          "metadata": {
            "tags": []
          },
          "execution_count": 66
        }
      ]
    },
    {
      "cell_type": "code",
      "metadata": {
        "id": "Vs-h7AgO0Ce_",
        "outputId": "df066e0b-5635-401e-ea0b-0c47d0abaa69",
        "colab": {
          "base_uri": "https://localhost:8080/",
          "height": 151
        }
      },
      "source": [
        "data[\"Parch\"].value_counts()\n"
      ],
      "execution_count": null,
      "outputs": [
        {
          "output_type": "execute_result",
          "data": {
            "text/plain": [
              "0    676\n",
              "1    118\n",
              "2     80\n",
              "5      5\n",
              "3      5\n",
              "4      4\n",
              "6      1\n",
              "Name: Parch, dtype: int64"
            ]
          },
          "metadata": {
            "tags": []
          },
          "execution_count": 67
        }
      ]
    },
    {
      "cell_type": "code",
      "metadata": {
        "id": "dfUfH2XNA_MW",
        "outputId": "2a63615b-f1c6-4633-bbef-a0cf9b7189a2",
        "colab": {
          "base_uri": "https://localhost:8080/",
          "height": 151
        }
      },
      "source": [
        "data[\"SibSp\"].value_counts()\n"
      ],
      "execution_count": null,
      "outputs": [
        {
          "output_type": "execute_result",
          "data": {
            "text/plain": [
              "0    606\n",
              "1    209\n",
              "2     28\n",
              "4     18\n",
              "3     16\n",
              "8      7\n",
              "5      5\n",
              "Name: SibSp, dtype: int64"
            ]
          },
          "metadata": {
            "tags": []
          },
          "execution_count": 68
        }
      ]
    },
    {
      "cell_type": "code",
      "metadata": {
        "id": "D-Js84VbByV_",
        "outputId": "f3edd289-43c8-42ad-ad66-476ad0ae8622",
        "colab": {
          "base_uri": "https://localhost:8080/",
          "height": 195
        }
      },
      "source": [
        "data[\"FamilySize\"]=data[\"SibSp\"]+data[\"Parch\"]\n",
        "data.head()"
      ],
      "execution_count": null,
      "outputs": [
        {
          "output_type": "execute_result",
          "data": {
            "text/html": [
              "<div>\n",
              "<style scoped>\n",
              "    .dataframe tbody tr th:only-of-type {\n",
              "        vertical-align: middle;\n",
              "    }\n",
              "\n",
              "    .dataframe tbody tr th {\n",
              "        vertical-align: top;\n",
              "    }\n",
              "\n",
              "    .dataframe thead th {\n",
              "        text-align: right;\n",
              "    }\n",
              "</style>\n",
              "<table border=\"1\" class=\"dataframe\">\n",
              "  <thead>\n",
              "    <tr style=\"text-align: right;\">\n",
              "      <th></th>\n",
              "      <th>Survived</th>\n",
              "      <th>Pclass</th>\n",
              "      <th>Age</th>\n",
              "      <th>SibSp</th>\n",
              "      <th>Parch</th>\n",
              "      <th>Fare</th>\n",
              "      <th>Cabin</th>\n",
              "      <th>Embarked</th>\n",
              "      <th>female</th>\n",
              "      <th>male</th>\n",
              "      <th>Title</th>\n",
              "      <th>FamilySize</th>\n",
              "    </tr>\n",
              "  </thead>\n",
              "  <tbody>\n",
              "    <tr>\n",
              "      <th>0</th>\n",
              "      <td>0</td>\n",
              "      <td>2</td>\n",
              "      <td>28.0</td>\n",
              "      <td>0</td>\n",
              "      <td>0</td>\n",
              "      <td>13.0000</td>\n",
              "      <td>144</td>\n",
              "      <td>2</td>\n",
              "      <td>0</td>\n",
              "      <td>1</td>\n",
              "      <td>Mrs</td>\n",
              "      <td>0</td>\n",
              "    </tr>\n",
              "    <tr>\n",
              "      <th>1</th>\n",
              "      <td>0</td>\n",
              "      <td>3</td>\n",
              "      <td>25.0</td>\n",
              "      <td>0</td>\n",
              "      <td>0</td>\n",
              "      <td>7.6500</td>\n",
              "      <td>139</td>\n",
              "      <td>2</td>\n",
              "      <td>0</td>\n",
              "      <td>1</td>\n",
              "      <td>Mrs</td>\n",
              "      <td>0</td>\n",
              "    </tr>\n",
              "    <tr>\n",
              "      <th>2</th>\n",
              "      <td>0</td>\n",
              "      <td>3</td>\n",
              "      <td>20.0</td>\n",
              "      <td>0</td>\n",
              "      <td>0</td>\n",
              "      <td>7.8542</td>\n",
              "      <td>144</td>\n",
              "      <td>2</td>\n",
              "      <td>0</td>\n",
              "      <td>1</td>\n",
              "      <td>Mrs</td>\n",
              "      <td>0</td>\n",
              "    </tr>\n",
              "    <tr>\n",
              "      <th>3</th>\n",
              "      <td>0</td>\n",
              "      <td>3</td>\n",
              "      <td>29.0</td>\n",
              "      <td>0</td>\n",
              "      <td>4</td>\n",
              "      <td>21.0750</td>\n",
              "      <td>144</td>\n",
              "      <td>2</td>\n",
              "      <td>1</td>\n",
              "      <td>0</td>\n",
              "      <td>Mrs</td>\n",
              "      <td>4</td>\n",
              "    </tr>\n",
              "    <tr>\n",
              "      <th>4</th>\n",
              "      <td>0</td>\n",
              "      <td>1</td>\n",
              "      <td>31.0</td>\n",
              "      <td>1</td>\n",
              "      <td>0</td>\n",
              "      <td>52.0000</td>\n",
              "      <td>37</td>\n",
              "      <td>2</td>\n",
              "      <td>0</td>\n",
              "      <td>1</td>\n",
              "      <td>Mrs</td>\n",
              "      <td>1</td>\n",
              "    </tr>\n",
              "  </tbody>\n",
              "</table>\n",
              "</div>"
            ],
            "text/plain": [
              "   Survived  Pclass   Age  SibSp  ...  female  male  Title  FamilySize\n",
              "0         0       2  28.0      0  ...       0     1    Mrs           0\n",
              "1         0       3  25.0      0  ...       0     1    Mrs           0\n",
              "2         0       3  20.0      0  ...       0     1    Mrs           0\n",
              "3         0       3  29.0      0  ...       1     0    Mrs           4\n",
              "4         0       1  31.0      1  ...       0     1    Mrs           1\n",
              "\n",
              "[5 rows x 12 columns]"
            ]
          },
          "metadata": {
            "tags": []
          },
          "execution_count": 69
        }
      ]
    },
    {
      "cell_type": "code",
      "metadata": {
        "id": "fGMYB3pd49NO"
      },
      "source": [
        ""
      ],
      "execution_count": null,
      "outputs": []
    }
  ]
}